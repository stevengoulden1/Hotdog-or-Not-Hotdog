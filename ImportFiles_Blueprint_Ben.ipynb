{
 "cells": [
  {
   "cell_type": "markdown",
   "id": "77bf113a-551d-439b-8946-a5a567d7e0dd",
   "metadata": {},
   "source": [
    "### Imports"
   ]
  },
  {
   "cell_type": "code",
   "execution_count": 3,
   "id": "f49f21d2-5065-4177-b9aa-b1b57ca4898a",
   "metadata": {},
   "outputs": [],
   "source": [
    "import matplotlib.pyplot as plt\n",
    "import numpy as np\n",
    "from tensorflow import keras\n",
    "import tensorflow as tf\n",
    "from PIL import Image\n",
    "import glob\n",
    "import random\n",
    "import pandas as pd"
   ]
  },
  {
   "cell_type": "code",
   "execution_count": 4,
   "id": "89b8ff6e-ad4c-49d5-8225-dc5bfa8c4309",
   "metadata": {},
   "outputs": [
    {
     "name": "stdout",
     "output_type": "stream",
     "text": [
      "2.15.0\n"
     ]
    }
   ],
   "source": [
    "print(tf.__version__)\n"
   ]
  },
  {
   "cell_type": "code",
   "execution_count": 5,
   "id": "998de106-5d8c-4ff3-9f92-19f02cdb6ce9",
   "metadata": {},
   "outputs": [
    {
     "name": "stdout",
     "output_type": "stream",
     "text": [
      "[PhysicalDevice(name='/physical_device:CPU:0', device_type='CPU')]\n"
     ]
    }
   ],
   "source": [
    "print(tf.config.list_physical_devices('CPU'))\n"
   ]
  },
  {
   "cell_type": "code",
   "execution_count": 11,
   "id": "d0b17fb1-fca2-4fa2-bea4-d7a4629b728b",
   "metadata": {},
   "outputs": [
    {
     "name": "stdout",
     "output_type": "stream",
     "text": [
      "Done.\n"
     ]
    }
   ],
   "source": [
    "files=glob.glob(\"/Users/ben/Downloads/hotdog-nothotdog/train/hotdog/*.jpg\")\n",
    "TrainData = []\n",
    "index = 0\n",
    "\n",
    "for file in files:\n",
    "    img = Image.open(file)\n",
    "    img = img.resize((128, 128))\n",
    "    imgarray = np.asarray(img)\n",
    "    TrainData.append((imgarray,1))\n",
    "\n",
    "files=glob.glob(\"/Users/ben/Downloads/hotdog-nothotdog/train/nothotdog/*.jpg\")\n",
    "index = 0\n",
    "for file in files:\n",
    "    img = Image.open(file)\n",
    "    img = img.resize((128, 128))\n",
    "    imgarray = np.asarray(img)\n",
    "    TrainData.append((imgarray,0))\n",
    "\n",
    "print(\"Done.\")\n",
    "\n",
    "random.shuffle(TrainData)"
   ]
  },
  {
   "cell_type": "code",
   "execution_count": 13,
   "id": "cae7e25f-6272-4269-b980-39d745df05fd",
   "metadata": {},
   "outputs": [
    {
     "name": "stdout",
     "output_type": "stream",
     "text": [
      "Done.\n"
     ]
    }
   ],
   "source": [
    "files=glob.glob(\"/Users/ben/Downloads/hotdog-nothotdog/test/hotdog/*.jpg\")\n",
    "TestData = []\n",
    "index = 0\n",
    "\n",
    "for file in files:\n",
    "    img = Image.open(file)\n",
    "    img = img.resize((128, 128))\n",
    "    imgarray = np.asarray(img)\n",
    "    TestData.append((imgarray,1))\n",
    "\n",
    "files=glob.glob(\"/Users/ben/Downloads/hotdog-nothotdog/test/nothotdog/*.jpg\")\n",
    "index = 0\n",
    "for file in files:\n",
    "    img = Image.open(file)\n",
    "    img = img.resize((128, 128))\n",
    "    imgarray = np.asarray(img)\n",
    "    TestData.append((imgarray,0))\n",
    "\n",
    "print(\"Done.\")\n",
    "\n",
    "random.shuffle(TestData)"
   ]
  },
  {
   "cell_type": "code",
   "execution_count": 14,
   "id": "82280e5a-ba77-4824-9de5-0e160ab15199",
   "metadata": {},
   "outputs": [
    {
     "name": "stdout",
     "output_type": "stream",
     "text": [
      "TrainData  3000\n",
      "TrainData  644\n"
     ]
    }
   ],
   "source": [
    "print(\"TrainData \",len(TrainData))\n",
    "print(\"TrainData \",len(TestData)) "
   ]
  },
  {
   "cell_type": "code",
   "execution_count": null,
   "id": "f3aacfaf-10ec-45e9-b202-a8f642e76d5c",
   "metadata": {},
   "outputs": [],
   "source": []
  }
 ],
 "metadata": {
  "kernelspec": {
   "display_name": "Python 3 (ipykernel)",
   "language": "python",
   "name": "python3"
  },
  "language_info": {
   "codemirror_mode": {
    "name": "ipython",
    "version": 3
   },
   "file_extension": ".py",
   "mimetype": "text/x-python",
   "name": "python",
   "nbconvert_exporter": "python",
   "pygments_lexer": "ipython3",
   "version": "3.10.13"
  }
 },
 "nbformat": 4,
 "nbformat_minor": 5
}
